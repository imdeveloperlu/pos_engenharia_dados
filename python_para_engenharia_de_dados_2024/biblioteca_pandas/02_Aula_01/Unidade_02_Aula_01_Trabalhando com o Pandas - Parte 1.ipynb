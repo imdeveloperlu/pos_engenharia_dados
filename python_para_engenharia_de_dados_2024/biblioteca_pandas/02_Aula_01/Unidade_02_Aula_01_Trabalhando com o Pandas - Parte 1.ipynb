{
  "nbformat": 4,
  "nbformat_minor": 0,
  "metadata": {
    "colab": {
      "provenance": []
    },
    "kernelspec": {
      "name": "python3",
      "display_name": "Python 3"
    },
    "language_info": {
      "name": "python"
    }
  },
  "cells": [
    {
      "cell_type": "code",
      "execution_count": null,
      "metadata": {
        "id": "Kc3Mn83EfSn3"
      },
      "outputs": [],
      "source": [
        "import pandas as pd\n",
        "\n",
        "#Criando uma série indexada por valores inteiros, iniciando em 0\n",
        "series = pd.Series([10, 20, 43, 87, 3])\n",
        "print(series)"
      ]
    },
    {
      "cell_type": "code",
      "source": [
        "#Criando uma série indexada por letras\n",
        "series = pd.Series([10, 20, 43, 87, 3], index = ['a', 'b', 'c', 'd', 'e'])\n",
        "print(series)"
      ],
      "metadata": {
        "id": "5Q0CAf4bf4yV"
      },
      "execution_count": null,
      "outputs": []
    },
    {
      "cell_type": "code",
      "source": [
        "#Criando uma série indexada por nomes\n",
        "series = pd.Series([10, 20, 43, 87, 3], index = ['João', 'Maria', 'Pedro', 'Sílvia', 'Alex'])\n",
        "print(series)"
      ],
      "metadata": {
        "id": "ceKNmzm3gWx0"
      },
      "execution_count": null,
      "outputs": []
    },
    {
      "cell_type": "code",
      "source": [
        "funcionario = {'João': 1500, 'Maria': 2500, 'André': 3000.50, 'Carla': 4000.00, 'Alex': 30000.00}\n",
        "series = pd.Series(funcionario)\n",
        "\n",
        "# Exibindo resumo estatístico da série\n",
        "series.describe()"
      ],
      "metadata": {
        "id": "oHtTAY7lf_iN"
      },
      "execution_count": null,
      "outputs": []
    },
    {
      "cell_type": "code",
      "source": [
        "#Ordenando a série pelo índice\n",
        "series.sort_index(inplace = True)\n",
        "print(series)"
      ],
      "metadata": {
        "id": "EimzxadogYnE"
      },
      "execution_count": null,
      "outputs": []
    },
    {
      "cell_type": "code",
      "source": [
        "#Ordenando a série pelo valor\n",
        "series.sort_values(inplace = True)\n",
        "print(series)"
      ],
      "metadata": {
        "id": "PtuWMXhRgb40"
      },
      "execution_count": null,
      "outputs": []
    },
    {
      "cell_type": "code",
      "source": [
        "import pandas as pd\n",
        "alunos = {'nome' : ['João', 'Maria', 'Carlos', 'Silvia', 'André', 'Juliana'],\n",
        "          'RA': [1000, 2000, 3000, 4000, 2700, 6000],\n",
        "          'sexo': ['M', 'F', 'M', 'F', 'M', 'F'],\n",
        "          'nota': [80.0, 90.0, 75.0, 100.0, 96.5, 98.5]\n",
        "         }\n",
        "\n",
        "df = pd.DataFrame(alunos)\n",
        "df #exibe todo o dataframe"
      ],
      "metadata": {
        "id": "msGc09xVgDfV"
      },
      "execution_count": null,
      "outputs": []
    },
    {
      "cell_type": "code",
      "source": [
        "df.head(3) #exibe os 5 primeiros registros"
      ],
      "metadata": {
        "id": "qzcFB0W9ghf0"
      },
      "execution_count": null,
      "outputs": []
    },
    {
      "cell_type": "code",
      "source": [
        "df.sample(2) #exibe os 5 últimos registros"
      ],
      "metadata": {
        "id": "xqSb61hzgkzN"
      },
      "execution_count": null,
      "outputs": []
    },
    {
      "cell_type": "code",
      "source": [
        "df.describe() # resumo estatístico de todos os campos numéricos"
      ],
      "metadata": {
        "id": "V51QGL3wglWc"
      },
      "execution_count": null,
      "outputs": []
    },
    {
      "cell_type": "code",
      "source": [
        "# Lendo dados de um arquivo CSV\n",
        "notas = pd.read_csv('Notas.csv', sep = ';')\n",
        "notas"
      ],
      "metadata": {
        "id": "mp0m3R_kgG69"
      },
      "execution_count": null,
      "outputs": []
    },
    {
      "cell_type": "code",
      "source": [
        "# Imprimindo a quantidade de linhas e colunas\n",
        "notas.shape"
      ],
      "metadata": {
        "id": "CPorrqsFj1n2"
      },
      "execution_count": null,
      "outputs": []
    },
    {
      "cell_type": "code",
      "source": [
        "# Exibindo as colunas\n",
        "notas.columns"
      ],
      "metadata": {
        "id": "GROk7xzVjpI8"
      },
      "execution_count": null,
      "outputs": []
    },
    {
      "cell_type": "code",
      "source": [
        "# Resumo estatístico de todos os campos numéricos\n",
        "notas.describe()"
      ],
      "metadata": {
        "id": "2n-1Z9Lsjqlk"
      },
      "execution_count": null,
      "outputs": []
    },
    {
      "cell_type": "code",
      "source": [
        "#Incluido novas colunas\n",
        "import numpy as np\n",
        "\n",
        "notas['Final'] = 0\n",
        "notas['Media'] = round((notas['D1'] + notas['D2'] + notas['D3'])/3, 2)\n",
        "notas"
      ],
      "metadata": {
        "id": "5B6eO2ONgI8s"
      },
      "execution_count": null,
      "outputs": []
    },
    {
      "cell_type": "code",
      "source": [
        "#importando e colunas específicas e renomeando as mesmas\n",
        "notas = pd.read_csv('Notas.csv', sep = ';',\n",
        "                   usecols = [0, 1], names = ['NomeAluno', 'NotaD1'])\n",
        "notas"
      ],
      "metadata": {
        "id": "1HUF50-UgLhs"
      },
      "execution_count": null,
      "outputs": []
    },
    {
      "cell_type": "code",
      "source": [
        "notas = pd.read_csv('Notas.csv', sep = ';', usecols = ['Aluno', 'D3'])\n",
        "notas"
      ],
      "metadata": {
        "id": "H-NiU1QzgsyE"
      },
      "execution_count": null,
      "outputs": []
    },
    {
      "cell_type": "code",
      "source": [
        "notas = pd.read_csv('Notas.csv', sep = ';')\n",
        "\n",
        "# Verificando linhas duplicadas\n",
        "notas.duplicated()"
      ],
      "metadata": {
        "id": "k1yNB83xgN1M"
      },
      "execution_count": null,
      "outputs": []
    },
    {
      "cell_type": "code",
      "source": [
        "# Removendo linhas duplicadas\n",
        "notas.drop_duplicates(inplace = True)\n",
        "\n",
        "notas"
      ],
      "metadata": {
        "id": "KKavOrtEgvzs"
      },
      "execution_count": null,
      "outputs": []
    },
    {
      "cell_type": "code",
      "source": [
        "alunos = {'nome' : ['João', 'Maria', 'Carlos', 'Silvia', 'André', 'Juliana', 'Alex'],\n",
        "          'RA': [1000, 2000, 3000, 4000, 2700, 6000, 1000],\n",
        "          'sexo': ['M', 'F', 'M', 'F', 'M', 'F', 'M'],\n",
        "          'nota': [80.0, 90.0, 75.0, 100.0, 96.5, 98.5, 90]\n",
        "         }\n",
        "df = pd.DataFrame(alunos)\n",
        "df"
      ],
      "metadata": {
        "id": "O_QIAgkEgTxk"
      },
      "execution_count": null,
      "outputs": []
    },
    {
      "cell_type": "code",
      "source": [
        "# Verificando as linhas que possuem RA duplicado\n",
        "df.duplicated(subset = ['RA'])"
      ],
      "metadata": {
        "id": "JZPNj25Igym3"
      },
      "execution_count": null,
      "outputs": []
    },
    {
      "cell_type": "code",
      "source": [
        "# Exibindo uma cópia do DataFrame as linhas que possuem RA duplicado\n",
        "df.drop_duplicates(subset = ['RA'])"
      ],
      "metadata": {
        "id": "YMOt9SRSg0aN"
      },
      "execution_count": null,
      "outputs": []
    },
    {
      "cell_type": "code",
      "source": [
        "# Removendo as linhas que possuem RA duplicado\n",
        "df.drop_duplicates(subset = ['RA'], inplace = True)"
      ],
      "metadata": {
        "id": "2oKpZ7csg1Gc"
      },
      "execution_count": null,
      "outputs": []
    }
  ]
}