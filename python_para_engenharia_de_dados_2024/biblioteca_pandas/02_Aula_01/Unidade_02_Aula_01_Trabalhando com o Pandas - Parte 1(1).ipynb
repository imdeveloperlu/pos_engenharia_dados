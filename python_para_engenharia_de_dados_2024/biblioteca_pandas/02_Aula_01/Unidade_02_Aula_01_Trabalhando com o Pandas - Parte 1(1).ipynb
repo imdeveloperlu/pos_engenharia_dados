{
  "cells": [
    {
      "cell_type": "code",
      "execution_count": 3,
      "metadata": {
        "id": "Kc3Mn83EfSn3"
      },
      "outputs": [
        {
          "ename": "ModuleNotFoundError",
          "evalue": "No module named 'pandas'",
          "output_type": "error",
          "traceback": [
            "\u001b[0;31m---------------------------------------------------------------------------\u001b[0m",
            "\u001b[0;31mModuleNotFoundError\u001b[0m                       Traceback (most recent call last)",
            "Cell \u001b[0;32mIn[3], line 1\u001b[0m\n\u001b[0;32m----> 1\u001b[0m \u001b[38;5;28;01mimport\u001b[39;00m \u001b[38;5;21;01mpandas\u001b[39;00m \u001b[38;5;28;01mas\u001b[39;00m \u001b[38;5;21;01mpd\u001b[39;00m\n\u001b[1;32m      3\u001b[0m \u001b[38;5;66;03m#Criando uma série indexada por valores inteiros, iniciando em 0\u001b[39;00m\n\u001b[1;32m      4\u001b[0m series \u001b[38;5;241m=\u001b[39m pd\u001b[38;5;241m.\u001b[39mSeries([\u001b[38;5;241m10\u001b[39m, \u001b[38;5;241m20\u001b[39m, \u001b[38;5;241m43\u001b[39m, \u001b[38;5;241m87\u001b[39m, \u001b[38;5;241m3\u001b[39m])\n",
            "\u001b[0;31mModuleNotFoundError\u001b[0m: No module named 'pandas'"
          ]
        }
      ],
      "source": [
        "import pandas as pd\n",
        "\n",
        "#Criando uma série indexada por valores inteiros, iniciando em 0\n",
        "series = pd.Series([10, 20, 43, 87, 3])\n",
        "print(series)"
      ]
    },
    {
      "cell_type": "code",
      "execution_count": null,
      "metadata": {
        "id": "5Q0CAf4bf4yV"
      },
      "outputs": [],
      "source": [
        "#Criando uma série indexada por letras\n",
        "series = pd.Series([10, 20, 43, 87, 3], index = ['a', 'b', 'c', 'd', 'e'])\n",
        "print(series)"
      ]
    },
    {
      "cell_type": "code",
      "execution_count": null,
      "metadata": {
        "id": "ceKNmzm3gWx0"
      },
      "outputs": [],
      "source": [
        "#Criando uma série indexada por nomes\n",
        "series = pd.Series([10, 20, 43, 87, 3], index = ['João', 'Maria', 'Pedro', 'Sílvia', 'Alex'])\n",
        "print(series)"
      ]
    },
    {
      "cell_type": "code",
      "execution_count": null,
      "metadata": {
        "id": "oHtTAY7lf_iN"
      },
      "outputs": [],
      "source": [
        "funcionario = {'João': 1500, 'Maria': 2500, 'André': 3000.50, 'Carla': 4000.00, 'Alex': 30000.00}\n",
        "series = pd.Series(funcionario)\n",
        "\n",
        "# Exibindo resumo estatístico da série\n",
        "series.describe()"
      ]
    },
    {
      "cell_type": "code",
      "execution_count": null,
      "metadata": {
        "id": "EimzxadogYnE"
      },
      "outputs": [],
      "source": [
        "#Ordenando a série pelo índice\n",
        "series.sort_index(inplace = True)\n",
        "print(series)"
      ]
    },
    {
      "cell_type": "code",
      "execution_count": 2,
      "metadata": {
        "id": "PtuWMXhRgb40"
      },
      "outputs": [
        {
          "ename": "NameError",
          "evalue": "name 'series' is not defined",
          "output_type": "error",
          "traceback": [
            "\u001b[0;31m---------------------------------------------------------------------------\u001b[0m",
            "\u001b[0;31mNameError\u001b[0m                                 Traceback (most recent call last)",
            "Cell \u001b[0;32mIn[2], line 2\u001b[0m\n\u001b[1;32m      1\u001b[0m \u001b[38;5;66;03m#Ordenando a série pelo valor\u001b[39;00m\n\u001b[0;32m----> 2\u001b[0m \u001b[43mseries\u001b[49m\u001b[38;5;241m.\u001b[39msort_values(inplace \u001b[38;5;241m=\u001b[39m \u001b[38;5;28;01mTrue\u001b[39;00m)\n\u001b[1;32m      3\u001b[0m \u001b[38;5;28mprint\u001b[39m(series)\n",
            "\u001b[0;31mNameError\u001b[0m: name 'series' is not defined"
          ]
        }
      ],
      "source": [
        "#Ordenando a série pelo valor\n",
        "series.sort_values(inplace = True)\n",
        "print(series)"
      ]
    },
    {
      "cell_type": "code",
      "execution_count": 1,
      "metadata": {
        "id": "msGc09xVgDfV"
      },
      "outputs": [
        {
          "ename": "ModuleNotFoundError",
          "evalue": "No module named 'pandas'",
          "output_type": "error",
          "traceback": [
            "\u001b[0;31m---------------------------------------------------------------------------\u001b[0m",
            "\u001b[0;31mModuleNotFoundError\u001b[0m                       Traceback (most recent call last)",
            "Cell \u001b[0;32mIn[1], line 1\u001b[0m\n\u001b[0;32m----> 1\u001b[0m \u001b[38;5;28;01mimport\u001b[39;00m \u001b[38;5;21;01mpandas\u001b[39;00m \u001b[38;5;28;01mas\u001b[39;00m \u001b[38;5;21;01mpd\u001b[39;00m\n\u001b[1;32m      2\u001b[0m alunos \u001b[38;5;241m=\u001b[39m {\u001b[38;5;124m'\u001b[39m\u001b[38;5;124mnome\u001b[39m\u001b[38;5;124m'\u001b[39m : [\u001b[38;5;124m'\u001b[39m\u001b[38;5;124mJoão\u001b[39m\u001b[38;5;124m'\u001b[39m, \u001b[38;5;124m'\u001b[39m\u001b[38;5;124mMaria\u001b[39m\u001b[38;5;124m'\u001b[39m, \u001b[38;5;124m'\u001b[39m\u001b[38;5;124mCarlos\u001b[39m\u001b[38;5;124m'\u001b[39m, \u001b[38;5;124m'\u001b[39m\u001b[38;5;124mSilvia\u001b[39m\u001b[38;5;124m'\u001b[39m, \u001b[38;5;124m'\u001b[39m\u001b[38;5;124mAndré\u001b[39m\u001b[38;5;124m'\u001b[39m, \u001b[38;5;124m'\u001b[39m\u001b[38;5;124mJuliana\u001b[39m\u001b[38;5;124m'\u001b[39m],\n\u001b[1;32m      3\u001b[0m           \u001b[38;5;124m'\u001b[39m\u001b[38;5;124mRA\u001b[39m\u001b[38;5;124m'\u001b[39m: [\u001b[38;5;241m1000\u001b[39m, \u001b[38;5;241m2000\u001b[39m, \u001b[38;5;241m3000\u001b[39m, \u001b[38;5;241m4000\u001b[39m, \u001b[38;5;241m2700\u001b[39m, \u001b[38;5;241m6000\u001b[39m],\n\u001b[1;32m      4\u001b[0m           \u001b[38;5;124m'\u001b[39m\u001b[38;5;124msexo\u001b[39m\u001b[38;5;124m'\u001b[39m: [\u001b[38;5;124m'\u001b[39m\u001b[38;5;124mM\u001b[39m\u001b[38;5;124m'\u001b[39m, \u001b[38;5;124m'\u001b[39m\u001b[38;5;124mF\u001b[39m\u001b[38;5;124m'\u001b[39m, \u001b[38;5;124m'\u001b[39m\u001b[38;5;124mM\u001b[39m\u001b[38;5;124m'\u001b[39m, \u001b[38;5;124m'\u001b[39m\u001b[38;5;124mF\u001b[39m\u001b[38;5;124m'\u001b[39m, \u001b[38;5;124m'\u001b[39m\u001b[38;5;124mM\u001b[39m\u001b[38;5;124m'\u001b[39m, \u001b[38;5;124m'\u001b[39m\u001b[38;5;124mF\u001b[39m\u001b[38;5;124m'\u001b[39m],\n\u001b[1;32m      5\u001b[0m           \u001b[38;5;124m'\u001b[39m\u001b[38;5;124mnota\u001b[39m\u001b[38;5;124m'\u001b[39m: [\u001b[38;5;241m80.0\u001b[39m, \u001b[38;5;241m90.0\u001b[39m, \u001b[38;5;241m75.0\u001b[39m, \u001b[38;5;241m100.0\u001b[39m, \u001b[38;5;241m96.5\u001b[39m, \u001b[38;5;241m98.5\u001b[39m]\n\u001b[1;32m      6\u001b[0m          }\n\u001b[1;32m      8\u001b[0m df \u001b[38;5;241m=\u001b[39m pd\u001b[38;5;241m.\u001b[39mDataFrame(alunos)\n",
            "\u001b[0;31mModuleNotFoundError\u001b[0m: No module named 'pandas'"
          ]
        }
      ],
      "source": [
        "import pandas as pd\n",
        "alunos = {'nome' : ['João', 'Maria', 'Carlos', 'Silvia', 'André', 'Juliana'],\n",
        "          'RA': [1000, 2000, 3000, 4000, 2700, 6000],\n",
        "          'sexo': ['M', 'F', 'M', 'F', 'M', 'F'],\n",
        "          'nota': [80.0, 90.0, 75.0, 100.0, 96.5, 98.5]\n",
        "         }\n",
        "\n",
        "df = pd.DataFrame(alunos)\n",
        "df #exibe todo o dataframe"
      ]
    },
    {
      "cell_type": "code",
      "execution_count": null,
      "metadata": {
        "id": "qzcFB0W9ghf0"
      },
      "outputs": [],
      "source": [
        "df.head(3) #exibe os 5 primeiros registros"
      ]
    },
    {
      "cell_type": "code",
      "execution_count": null,
      "metadata": {
        "id": "xqSb61hzgkzN"
      },
      "outputs": [],
      "source": [
        "df.sample(2) #exibe os 5 últimos registros"
      ]
    },
    {
      "cell_type": "code",
      "execution_count": null,
      "metadata": {
        "id": "V51QGL3wglWc"
      },
      "outputs": [],
      "source": [
        "df.describe() # resumo estatístico de todos os campos numéricos"
      ]
    },
    {
      "cell_type": "code",
      "execution_count": null,
      "metadata": {
        "id": "mp0m3R_kgG69"
      },
      "outputs": [],
      "source": [
        "# Lendo dados de um arquivo CSV\n",
        "notas = pd.read_csv('Notas.csv', sep = ';')\n",
        "notas"
      ]
    },
    {
      "cell_type": "code",
      "execution_count": null,
      "metadata": {
        "id": "CPorrqsFj1n2"
      },
      "outputs": [],
      "source": [
        "# Imprimindo a quantidade de linhas e colunas\n",
        "notas.shape"
      ]
    },
    {
      "cell_type": "code",
      "execution_count": null,
      "metadata": {
        "id": "GROk7xzVjpI8"
      },
      "outputs": [],
      "source": [
        "# Exibindo as colunas\n",
        "notas.columns"
      ]
    },
    {
      "cell_type": "code",
      "execution_count": null,
      "metadata": {
        "id": "2n-1Z9Lsjqlk"
      },
      "outputs": [],
      "source": [
        "# Resumo estatístico de todos os campos numéricos\n",
        "notas.describe()"
      ]
    },
    {
      "cell_type": "code",
      "execution_count": null,
      "metadata": {
        "id": "5B6eO2ONgI8s"
      },
      "outputs": [],
      "source": [
        "#Incluido novas colunas\n",
        "import numpy as np\n",
        "\n",
        "notas['Final'] = 0\n",
        "notas['Media'] = round((notas['D1'] + notas['D2'] + notas['D3'])/3, 2)\n",
        "notas"
      ]
    },
    {
      "cell_type": "code",
      "execution_count": null,
      "metadata": {
        "id": "1HUF50-UgLhs"
      },
      "outputs": [],
      "source": [
        "#importando e colunas específicas e renomeando as mesmas\n",
        "notas = pd.read_csv('Notas.csv', sep = ';',\n",
        "                   usecols = [0, 1], names = ['NomeAluno', 'NotaD1'])\n",
        "notas"
      ]
    },
    {
      "cell_type": "code",
      "execution_count": null,
      "metadata": {
        "id": "H-NiU1QzgsyE"
      },
      "outputs": [],
      "source": [
        "notas = pd.read_csv('Notas.csv', sep = ';', usecols = ['Aluno', 'D3'])\n",
        "notas"
      ]
    },
    {
      "cell_type": "code",
      "execution_count": null,
      "metadata": {
        "id": "k1yNB83xgN1M"
      },
      "outputs": [],
      "source": [
        "notas = pd.read_csv('Notas.csv', sep = ';')\n",
        "\n",
        "# Verificando linhas duplicadas\n",
        "notas.duplicated()"
      ]
    },
    {
      "cell_type": "code",
      "execution_count": null,
      "metadata": {
        "id": "KKavOrtEgvzs"
      },
      "outputs": [],
      "source": [
        "# Removendo linhas duplicadas\n",
        "notas.drop_duplicates(inplace = True)\n",
        "\n",
        "notas"
      ]
    },
    {
      "cell_type": "code",
      "execution_count": null,
      "metadata": {
        "id": "O_QIAgkEgTxk"
      },
      "outputs": [],
      "source": [
        "alunos = {'nome' : ['João', 'Maria', 'Carlos', 'Silvia', 'André', 'Juliana', 'Alex'],\n",
        "          'RA': [1000, 2000, 3000, 4000, 2700, 6000, 1000],\n",
        "          'sexo': ['M', 'F', 'M', 'F', 'M', 'F', 'M'],\n",
        "          'nota': [80.0, 90.0, 75.0, 100.0, 96.5, 98.5, 90]\n",
        "         }\n",
        "df = pd.DataFrame(alunos)\n",
        "df"
      ]
    },
    {
      "cell_type": "code",
      "execution_count": null,
      "metadata": {
        "id": "JZPNj25Igym3"
      },
      "outputs": [],
      "source": [
        "# Verificando as linhas que possuem RA duplicado\n",
        "df.duplicated(subset = ['RA'])"
      ]
    },
    {
      "cell_type": "code",
      "execution_count": null,
      "metadata": {
        "id": "YMOt9SRSg0aN"
      },
      "outputs": [],
      "source": [
        "# Exibindo uma cópia do DataFrame as linhas que possuem RA duplicado\n",
        "df.drop_duplicates(subset = ['RA'])"
      ]
    },
    {
      "cell_type": "code",
      "execution_count": null,
      "metadata": {
        "id": "2oKpZ7csg1Gc"
      },
      "outputs": [],
      "source": [
        "# Removendo as linhas que possuem RA duplicado\n",
        "df.drop_duplicates(subset = ['RA'], inplace = True)"
      ]
    }
  ],
  "metadata": {
    "colab": {
      "provenance": []
    },
    "kernelspec": {
      "display_name": "Python 3",
      "name": "python3"
    },
    "language_info": {
      "codemirror_mode": {
        "name": "ipython",
        "version": 3
      },
      "file_extension": ".py",
      "mimetype": "text/x-python",
      "name": "python",
      "nbconvert_exporter": "python",
      "pygments_lexer": "ipython3",
      "version": "3.11.0rc1"
    }
  },
  "nbformat": 4,
  "nbformat_minor": 0
}
