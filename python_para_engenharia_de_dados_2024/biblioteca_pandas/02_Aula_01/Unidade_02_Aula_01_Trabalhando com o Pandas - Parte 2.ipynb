{
  "nbformat": 4,
  "nbformat_minor": 0,
  "metadata": {
    "colab": {
      "provenance": []
    },
    "kernelspec": {
      "name": "python3",
      "display_name": "Python 3"
    },
    "language_info": {
      "name": "python"
    }
  },
  "cells": [
    {
      "cell_type": "code",
      "execution_count": null,
      "metadata": {
        "id": "VE0rG1P-so5E"
      },
      "outputs": [],
      "source": [
        "#importando e colunas específicas e renomeando as mesmas\n",
        "import pandas as pd\n",
        "notas = pd.read_csv('Notas.csv', sep = ';',\n",
        "                   usecols = [0, 1], names = ['NomeAluno', 'NotaD1'])\n",
        "notas"
      ]
    },
    {
      "cell_type": "code",
      "source": [
        "notas = pd.read_csv('Notas.csv', sep = ';', usecols = ['Aluno', 'D3'])\n",
        "notas"
      ],
      "metadata": {
        "id": "Hms0tNz-szKk"
      },
      "execution_count": null,
      "outputs": []
    },
    {
      "cell_type": "code",
      "source": [
        "notas = pd.read_csv('Notas.csv', sep = ';')\n",
        "notas\n",
        "# Verificando linhas duplicadas\n",
        "notas.duplicated()"
      ],
      "metadata": {
        "id": "Z5hJzCyus0p7"
      },
      "execution_count": null,
      "outputs": []
    },
    {
      "cell_type": "code",
      "source": [
        "# Removendo linhas duplicadas\n",
        "notas.drop_duplicates(inplace = True)\n",
        "\n",
        "notas"
      ],
      "metadata": {
        "id": "77JH4Rkps4Sc"
      },
      "execution_count": null,
      "outputs": []
    },
    {
      "cell_type": "code",
      "source": [
        "alunos = {'nome' : ['João', 'Maria', 'Carlos', 'Silvia', 'André', 'Juliana', 'Alex'],\n",
        "          'RA': [1000, 2000, 3000, 4000, 2700, 6000, 1000],\n",
        "          'sexo': ['M', 'F', 'M', 'F', 'M', 'F', 'M'],\n",
        "          'nota': [80.0, 90.0, 75.0, 100.0, 96.5, 98.5, 90]\n",
        "         }\n",
        "df = pd.DataFrame(alunos)\n",
        "df"
      ],
      "metadata": {
        "id": "PytVNoCms6NL"
      },
      "execution_count": null,
      "outputs": []
    },
    {
      "cell_type": "code",
      "source": [
        "# Verificando as linhas que possuem RA duplicado\n",
        "df.duplicated(subset = ['RA'])"
      ],
      "metadata": {
        "id": "UaDLenqhs8Ar"
      },
      "execution_count": null,
      "outputs": []
    },
    {
      "cell_type": "code",
      "source": [
        "# Exibindo uma cópia do DataFrame as linhas que possuem RA duplicado\n",
        "df.drop_duplicates(subset = ['RA'])"
      ],
      "metadata": {
        "id": "GxGYkAcSs-DA"
      },
      "execution_count": null,
      "outputs": []
    },
    {
      "cell_type": "code",
      "source": [
        "# Removendo as linhas que possuem RA duplicado\n",
        "df.drop_duplicates(subset = ['RA'], inplace = True)\n",
        "df"
      ],
      "metadata": {
        "id": "elcy_9r4tAJE"
      },
      "execution_count": null,
      "outputs": []
    },
    {
      "cell_type": "code",
      "source": [
        "import pandas as pd\n",
        "notas = pd.read_csv('Notas.csv', sep = ';')\n",
        "#Exibindo somente as colunas Aluno e D3\n",
        "notas[['Aluno', 'D3']]\n",
        "\n",
        "#Exibindo os alunos que obtiveram nota D3 > 10\n",
        "notas[(notas.D3 > 10)]\n",
        "\n",
        "#Exibindo o nome dos alunos, e as notas D1 e D3,  para aqueles que obtiveram D3 maior que 10 e D1 menor que 10\n",
        "notas[(notas['D3'] > 10) & (notas['D1'] < 10)][['Aluno', 'D3']]\n",
        "#notas[(notas.D3 > 10) & (notas.D1 < 10)][['Aluno', 'D3']]\n",
        "\n",
        "# Utilizando o método query\n",
        "notas.query('D3 > 10 and D1 < 10')[['Aluno', 'D3']]"
      ],
      "metadata": {
        "id": "I-2XP7F1tnJL"
      },
      "execution_count": null,
      "outputs": []
    },
    {
      "cell_type": "code",
      "source": [
        "import pandas as pd\n",
        "notas = pd.read_csv('Notas_Curso.csv')\n",
        "# Ordenando os dados pelo nome do Aluno\n",
        "notas.sort_values(by = 'Aluno')\n",
        "\n",
        "# Ordenando os dados pelo nome do Aluno em ordem decrescente\n",
        "#notas.sort_values(by = 'Aluno', ascending = False)\n",
        "\n",
        "# Ordenando os dados pelo nome do Curso e do Aluno, em ordem crescente\n",
        "notas.sort_values(by = ['Curso','Aluno'])\n",
        "\n",
        "# Ordenando os dados pelo nome do Curso em ordem decrescente, e do Aluno, em ordem crescente\n",
        "notas.sort_values(by = ['Curso','Aluno'], ascending = [False, True])"
      ],
      "metadata": {
        "id": "CA3zVxu0t9Cc"
      },
      "execution_count": null,
      "outputs": []
    },
    {
      "cell_type": "code",
      "source": [
        "import pandas as pd\n",
        "notas = pd.read_csv('Notas_Curso.csv')\n",
        "\n",
        "# Quantidade de linhas por curso\n",
        "notas['Curso'].value_counts()\n",
        "\n",
        "# Quantidade de linhas por sexo\n",
        "notas['Sexo'].value_counts()\n",
        "\n",
        "# Quantidade de alunos por curso e sexo\n",
        "notas.groupby(['Curso', 'Sexo'])['Aluno'].count()\n",
        "\n",
        "# Média das notas por curso e sexo\n",
        "notas.groupby(['Curso', 'Sexo']).mean()"
      ],
      "metadata": {
        "id": "xfy2CDfTuOAz"
      },
      "execution_count": null,
      "outputs": []
    },
    {
      "cell_type": "code",
      "source": [
        "import pandas as pd\n",
        "\n",
        "notas = pd.read_csv('Notas.csv', sep = ';')\n",
        "\n",
        "# Excluindo as linhas que possuem valores nulos somente na coluna D2\n",
        "notasD2 = notas.dropna(subset = ['D2'])\n",
        "\n",
        "# Removendo as linhas duplicadas\n",
        "notasD2.drop_duplicates(inplace = True)\n",
        "\n",
        "notasD2\n",
        "\n",
        "# Gravando um DataFrame em um arquivo CSV\n",
        "# Com a opção index = False, não será criada uma coluna para os índices do DataFrame\n",
        "notasD2.to_csv('Copia_notas.csv', index = False)"
      ],
      "metadata": {
        "id": "s48IVv_BuWvb"
      },
      "execution_count": null,
      "outputs": []
    },
    {
      "cell_type": "code",
      "source": [
        "# Importando dados a partir de uma url\n",
        "import pandas as pd\n",
        "temperatura = pd.read_csv('https://github.com/alanjones2/dataviz/raw/master/londonweather.csv')\n",
        "\n",
        "temperatura"
      ],
      "metadata": {
        "id": "eDaRf-m_uaEV"
      },
      "execution_count": null,
      "outputs": []
    },
    {
      "cell_type": "code",
      "source": [
        "import pandas as pd\n",
        "\n",
        "notas = pd.read_csv('Notas_Curso.csv')\n",
        "notas\n",
        "\n",
        "# Plotando gráfico de quantidade de alunos por Curso\n",
        "#notas['Curso'].value_counts().plot()\n",
        "\n",
        "notas['Curso'].value_counts().plot(kind = 'bar', title = 'Alunos por Curso').set(xlabel='Curso', ylabel='Qtd Alunos')"
      ],
      "metadata": {
        "id": "HainamwEuk7b"
      },
      "execution_count": null,
      "outputs": []
    },
    {
      "cell_type": "code",
      "source": [
        "temp = pd.read_csv('Temperatura.csv', sep = ';')\n",
        "\n",
        "temp.sample(5)\n",
        "\n",
        "#temp.groupby('cidade')['temperatura'].mean().plot(kind = 'bar')\n",
        "\n",
        "t = temp[(temp.cidade == 'Belo Horizonte') & (temp.data_coleta >= '21/01/2020') & (temp.data_coleta <= '25/01/2020')]\n",
        "\n",
        "t.plot(kind='line',x='data_coleta',y='temperatura', title = 'Temperatura de BH').set(xlabel='Dia', ylabel='Temperatura')"
      ],
      "metadata": {
        "id": "bnwziwfcumKc"
      },
      "execution_count": null,
      "outputs": []
    }
  ]
}